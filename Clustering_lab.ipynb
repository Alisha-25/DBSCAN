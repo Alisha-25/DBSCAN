{
 "cells": [
  {
   "cell_type": "raw",
   "id": "7ae4de90-b75f-46e2-bedc-a0528664062a",
   "metadata": {},
   "source": [
    "Lab work\n",
    "    1. Load the data to colab\n",
    "    2. Do necessary preprocessing\n",
    "    3. Perform standard scaler and store in new dataframe\n",
    "    4. Plot knee plot for standard scaler and check the eps value\n",
    "    5. Run DBSCAN and fine tune min samples\n",
    "    6. Find outliers in 'num_keywords' column using \n",
    "        a. Standard Scaler\n",
    "        b. IQR method"
   ]
  },
  {
   "cell_type": "code",
   "execution_count": 1,
   "id": "85de11be-d385-4e51-873b-ea461caf06aa",
   "metadata": {},
   "outputs": [],
   "source": [
    "import pandas as pd\n",
    "import numpy as np\n",
    "import matplotlib.pyplot as plt\n",
    "import seaborn as sns"
   ]
  },
  {
   "cell_type": "code",
   "execution_count": 2,
   "id": "be358fcb-d838-48ab-9f70-9bc14cd43d0d",
   "metadata": {},
   "outputs": [],
   "source": [
    "df = pd.read_csv('OnlineNewsPopularity.csv')"
   ]
  },
  {
   "cell_type": "code",
   "execution_count": 3,
   "id": "c2e6dcf5-5f39-43ee-8b16-a29451d0033b",
   "metadata": {},
   "outputs": [
    {
     "data": {
      "text/html": [
       "<div>\n",
       "<style scoped>\n",
       "    .dataframe tbody tr th:only-of-type {\n",
       "        vertical-align: middle;\n",
       "    }\n",
       "\n",
       "    .dataframe tbody tr th {\n",
       "        vertical-align: top;\n",
       "    }\n",
       "\n",
       "    .dataframe thead th {\n",
       "        text-align: right;\n",
       "    }\n",
       "</style>\n",
       "<table border=\"1\" class=\"dataframe\">\n",
       "  <thead>\n",
       "    <tr style=\"text-align: right;\">\n",
       "      <th></th>\n",
       "      <th>url</th>\n",
       "      <th>timedelta</th>\n",
       "      <th>n_tokens_title</th>\n",
       "      <th>n_tokens_content</th>\n",
       "      <th>n_unique_tokens</th>\n",
       "      <th>n_non_stop_words</th>\n",
       "      <th>n_non_stop_unique_tokens</th>\n",
       "      <th>num_hrefs</th>\n",
       "      <th>num_self_hrefs</th>\n",
       "      <th>num_imgs</th>\n",
       "      <th>...</th>\n",
       "      <th>min_positive_polarity</th>\n",
       "      <th>max_positive_polarity</th>\n",
       "      <th>avg_negative_polarity</th>\n",
       "      <th>min_negative_polarity</th>\n",
       "      <th>max_negative_polarity</th>\n",
       "      <th>title_subjectivity</th>\n",
       "      <th>title_sentiment_polarity</th>\n",
       "      <th>abs_title_subjectivity</th>\n",
       "      <th>abs_title_sentiment_polarity</th>\n",
       "      <th>shares</th>\n",
       "    </tr>\n",
       "  </thead>\n",
       "  <tbody>\n",
       "    <tr>\n",
       "      <th>0</th>\n",
       "      <td>dummy</td>\n",
       "      <td>731</td>\n",
       "      <td>12</td>\n",
       "      <td>219</td>\n",
       "      <td>0.663594</td>\n",
       "      <td>1.0</td>\n",
       "      <td>0.815385</td>\n",
       "      <td>4</td>\n",
       "      <td>2</td>\n",
       "      <td>1</td>\n",
       "      <td>...</td>\n",
       "      <td>0.100000</td>\n",
       "      <td>0.7</td>\n",
       "      <td>-0.350000</td>\n",
       "      <td>-0.600</td>\n",
       "      <td>-0.200000</td>\n",
       "      <td>0.500000</td>\n",
       "      <td>-0.187500</td>\n",
       "      <td>0.000000</td>\n",
       "      <td>0.187500</td>\n",
       "      <td>593</td>\n",
       "    </tr>\n",
       "    <tr>\n",
       "      <th>1</th>\n",
       "      <td>dummy</td>\n",
       "      <td>731</td>\n",
       "      <td>9</td>\n",
       "      <td>255</td>\n",
       "      <td>0.604743</td>\n",
       "      <td>1.0</td>\n",
       "      <td>0.791946</td>\n",
       "      <td>3</td>\n",
       "      <td>1</td>\n",
       "      <td>1</td>\n",
       "      <td>...</td>\n",
       "      <td>0.033333</td>\n",
       "      <td>0.7</td>\n",
       "      <td>-0.118750</td>\n",
       "      <td>-0.125</td>\n",
       "      <td>-0.100000</td>\n",
       "      <td>0.000000</td>\n",
       "      <td>0.000000</td>\n",
       "      <td>0.500000</td>\n",
       "      <td>0.000000</td>\n",
       "      <td>711</td>\n",
       "    </tr>\n",
       "    <tr>\n",
       "      <th>2</th>\n",
       "      <td>dummy</td>\n",
       "      <td>731</td>\n",
       "      <td>9</td>\n",
       "      <td>211</td>\n",
       "      <td>0.575130</td>\n",
       "      <td>1.0</td>\n",
       "      <td>0.663866</td>\n",
       "      <td>3</td>\n",
       "      <td>1</td>\n",
       "      <td>1</td>\n",
       "      <td>...</td>\n",
       "      <td>0.100000</td>\n",
       "      <td>1.0</td>\n",
       "      <td>-0.466667</td>\n",
       "      <td>-0.800</td>\n",
       "      <td>-0.133333</td>\n",
       "      <td>0.000000</td>\n",
       "      <td>0.000000</td>\n",
       "      <td>0.500000</td>\n",
       "      <td>0.000000</td>\n",
       "      <td>1500</td>\n",
       "    </tr>\n",
       "    <tr>\n",
       "      <th>3</th>\n",
       "      <td>dummy</td>\n",
       "      <td>731</td>\n",
       "      <td>9</td>\n",
       "      <td>531</td>\n",
       "      <td>0.503788</td>\n",
       "      <td>1.0</td>\n",
       "      <td>0.665635</td>\n",
       "      <td>9</td>\n",
       "      <td>0</td>\n",
       "      <td>1</td>\n",
       "      <td>...</td>\n",
       "      <td>0.136364</td>\n",
       "      <td>0.8</td>\n",
       "      <td>-0.369697</td>\n",
       "      <td>-0.600</td>\n",
       "      <td>-0.166667</td>\n",
       "      <td>0.000000</td>\n",
       "      <td>0.000000</td>\n",
       "      <td>0.500000</td>\n",
       "      <td>0.000000</td>\n",
       "      <td>1200</td>\n",
       "    </tr>\n",
       "    <tr>\n",
       "      <th>4</th>\n",
       "      <td>dummy</td>\n",
       "      <td>731</td>\n",
       "      <td>13</td>\n",
       "      <td>1072</td>\n",
       "      <td>0.415646</td>\n",
       "      <td>1.0</td>\n",
       "      <td>0.540890</td>\n",
       "      <td>19</td>\n",
       "      <td>19</td>\n",
       "      <td>20</td>\n",
       "      <td>...</td>\n",
       "      <td>0.033333</td>\n",
       "      <td>1.0</td>\n",
       "      <td>-0.220192</td>\n",
       "      <td>-0.500</td>\n",
       "      <td>-0.050000</td>\n",
       "      <td>0.454545</td>\n",
       "      <td>0.136364</td>\n",
       "      <td>0.045455</td>\n",
       "      <td>0.136364</td>\n",
       "      <td>505</td>\n",
       "    </tr>\n",
       "  </tbody>\n",
       "</table>\n",
       "<p>5 rows × 61 columns</p>\n",
       "</div>"
      ],
      "text/plain": [
       "     url   timedelta   n_tokens_title   n_tokens_content   n_unique_tokens  \\\n",
       "0  dummy         731               12                219          0.663594   \n",
       "1  dummy         731                9                255          0.604743   \n",
       "2  dummy         731                9                211          0.575130   \n",
       "3  dummy         731                9                531          0.503788   \n",
       "4  dummy         731               13               1072          0.415646   \n",
       "\n",
       "    n_non_stop_words   n_non_stop_unique_tokens   num_hrefs   num_self_hrefs  \\\n",
       "0                1.0                   0.815385           4                2   \n",
       "1                1.0                   0.791946           3                1   \n",
       "2                1.0                   0.663866           3                1   \n",
       "3                1.0                   0.665635           9                0   \n",
       "4                1.0                   0.540890          19               19   \n",
       "\n",
       "    num_imgs  ...   min_positive_polarity   max_positive_polarity  \\\n",
       "0          1  ...                0.100000                     0.7   \n",
       "1          1  ...                0.033333                     0.7   \n",
       "2          1  ...                0.100000                     1.0   \n",
       "3          1  ...                0.136364                     0.8   \n",
       "4         20  ...                0.033333                     1.0   \n",
       "\n",
       "    avg_negative_polarity   min_negative_polarity   max_negative_polarity  \\\n",
       "0               -0.350000                  -0.600               -0.200000   \n",
       "1               -0.118750                  -0.125               -0.100000   \n",
       "2               -0.466667                  -0.800               -0.133333   \n",
       "3               -0.369697                  -0.600               -0.166667   \n",
       "4               -0.220192                  -0.500               -0.050000   \n",
       "\n",
       "    title_subjectivity   title_sentiment_polarity   abs_title_subjectivity  \\\n",
       "0             0.500000                  -0.187500                 0.000000   \n",
       "1             0.000000                   0.000000                 0.500000   \n",
       "2             0.000000                   0.000000                 0.500000   \n",
       "3             0.000000                   0.000000                 0.500000   \n",
       "4             0.454545                   0.136364                 0.045455   \n",
       "\n",
       "    abs_title_sentiment_polarity   shares  \n",
       "0                       0.187500      593  \n",
       "1                       0.000000      711  \n",
       "2                       0.000000     1500  \n",
       "3                       0.000000     1200  \n",
       "4                       0.136364      505  \n",
       "\n",
       "[5 rows x 61 columns]"
      ]
     },
     "execution_count": 3,
     "metadata": {},
     "output_type": "execute_result"
    }
   ],
   "source": [
    "df.head()"
   ]
  },
  {
   "cell_type": "code",
   "execution_count": 4,
   "id": "47b76b70-974a-4bfc-af8f-5d94756733c0",
   "metadata": {},
   "outputs": [
    {
     "data": {
      "text/plain": [
       "(39644, 61)"
      ]
     },
     "execution_count": 4,
     "metadata": {},
     "output_type": "execute_result"
    }
   ],
   "source": [
    "df.shape"
   ]
  },
  {
   "cell_type": "code",
   "execution_count": 5,
   "id": "5247b7c5-d76f-4b69-8428-676236b8b9fe",
   "metadata": {},
   "outputs": [
    {
     "name": "stdout",
     "output_type": "stream",
     "text": [
      "<class 'pandas.core.frame.DataFrame'>\n",
      "RangeIndex: 39644 entries, 0 to 39643\n",
      "Data columns (total 61 columns):\n",
      " #   Column                          Non-Null Count  Dtype  \n",
      "---  ------                          --------------  -----  \n",
      " 0   url                             39644 non-null  object \n",
      " 1    timedelta                      39644 non-null  int64  \n",
      " 2    n_tokens_title                 39644 non-null  int64  \n",
      " 3    n_tokens_content               39644 non-null  int64  \n",
      " 4    n_unique_tokens                39644 non-null  float64\n",
      " 5    n_non_stop_words               39644 non-null  float64\n",
      " 6    n_non_stop_unique_tokens       39644 non-null  float64\n",
      " 7    num_hrefs                      39644 non-null  int64  \n",
      " 8    num_self_hrefs                 39644 non-null  int64  \n",
      " 9    num_imgs                       39644 non-null  int64  \n",
      " 10   num_videos                     39644 non-null  int64  \n",
      " 11   average_token_length           39644 non-null  float64\n",
      " 12   num_keywords                   39644 non-null  int64  \n",
      " 13   data_channel_is_lifestyle      39644 non-null  int64  \n",
      " 14   data_channel_is_entertainment  39644 non-null  int64  \n",
      " 15   data_channel_is_bus            39644 non-null  int64  \n",
      " 16   data_channel_is_socmed         39644 non-null  int64  \n",
      " 17   data_channel_is_tech           39644 non-null  int64  \n",
      " 18   data_channel_is_world          39644 non-null  int64  \n",
      " 19   kw_min_min                     39644 non-null  int64  \n",
      " 20   kw_max_min                     39644 non-null  float64\n",
      " 21   kw_avg_min                     39644 non-null  float64\n",
      " 22   kw_min_max                     39644 non-null  int64  \n",
      " 23   kw_max_max                     39644 non-null  int64  \n",
      " 24   kw_avg_max                     39644 non-null  float64\n",
      " 25   kw_min_avg                     39644 non-null  float64\n",
      " 26   kw_max_avg                     39644 non-null  float64\n",
      " 27   kw_avg_avg                     39644 non-null  float64\n",
      " 28   self_reference_min_shares      39644 non-null  float64\n",
      " 29   self_reference_max_shares      39644 non-null  float64\n",
      " 30   self_reference_avg_sharess     39644 non-null  float64\n",
      " 31   weekday_is_monday              39644 non-null  int64  \n",
      " 32   weekday_is_tuesday             39644 non-null  int64  \n",
      " 33   weekday_is_wednesday           39644 non-null  int64  \n",
      " 34   weekday_is_thursday            39644 non-null  int64  \n",
      " 35   weekday_is_friday              39644 non-null  int64  \n",
      " 36   weekday_is_saturday            39644 non-null  int64  \n",
      " 37   weekday_is_sunday              39644 non-null  int64  \n",
      " 38   is_weekend                     39644 non-null  int64  \n",
      " 39   LDA_00                         39644 non-null  float64\n",
      " 40   LDA_01                         39644 non-null  float64\n",
      " 41   LDA_02                         39644 non-null  float64\n",
      " 42   LDA_03                         39644 non-null  float64\n",
      " 43   LDA_04                         39644 non-null  float64\n",
      " 44   global_subjectivity            39644 non-null  float64\n",
      " 45   global_sentiment_polarity      39644 non-null  float64\n",
      " 46   global_rate_positive_words     39644 non-null  float64\n",
      " 47   global_rate_negative_words     39644 non-null  float64\n",
      " 48   rate_positive_words            39644 non-null  float64\n",
      " 49   rate_negative_words            39644 non-null  float64\n",
      " 50   avg_positive_polarity          39644 non-null  float64\n",
      " 51   min_positive_polarity          39644 non-null  float64\n",
      " 52   max_positive_polarity          39644 non-null  float64\n",
      " 53   avg_negative_polarity          39644 non-null  float64\n",
      " 54   min_negative_polarity          39644 non-null  float64\n",
      " 55   max_negative_polarity          39644 non-null  float64\n",
      " 56   title_subjectivity             39644 non-null  float64\n",
      " 57   title_sentiment_polarity       39644 non-null  float64\n",
      " 58   abs_title_subjectivity         39644 non-null  float64\n",
      " 59   abs_title_sentiment_polarity   39644 non-null  float64\n",
      " 60   shares                         39644 non-null  int64  \n",
      "dtypes: float64(34), int64(26), object(1)\n",
      "memory usage: 18.5+ MB\n"
     ]
    }
   ],
   "source": [
    "df.info()"
   ]
  },
  {
   "cell_type": "code",
   "execution_count": 6,
   "id": "330c423b-096c-4d61-b577-569cad90ffe4",
   "metadata": {},
   "outputs": [
    {
     "data": {
      "text/plain": [
       "0"
      ]
     },
     "execution_count": 6,
     "metadata": {},
     "output_type": "execute_result"
    }
   ],
   "source": [
    "df.isnull().sum().sum()"
   ]
  },
  {
   "cell_type": "code",
   "execution_count": 7,
   "id": "e6f2d850-58c7-4d81-85cc-75d82230256d",
   "metadata": {},
   "outputs": [
    {
     "data": {
      "text/plain": [
       "url                                  1\n",
       " timedelta                         724\n",
       " n_tokens_title                     20\n",
       " n_tokens_content                 2406\n",
       " n_unique_tokens                 24878\n",
       "                                 ...  \n",
       " title_subjectivity                673\n",
       " title_sentiment_polarity          813\n",
       " abs_title_subjectivity            532\n",
       " abs_title_sentiment_polarity      653\n",
       " shares                           1454\n",
       "Length: 61, dtype: int64"
      ]
     },
     "execution_count": 7,
     "metadata": {},
     "output_type": "execute_result"
    }
   ],
   "source": [
    "df.nunique()"
   ]
  },
  {
   "cell_type": "code",
   "execution_count": 8,
   "id": "a4f8203d-8407-4ce8-bf3d-2f57fc645a82",
   "metadata": {},
   "outputs": [],
   "source": [
    "df_uniq = df.columns[df.nunique()==1]"
   ]
  },
  {
   "cell_type": "code",
   "execution_count": 9,
   "id": "ead6756c-862b-43c8-88c7-7d9014d0a51f",
   "metadata": {},
   "outputs": [
    {
     "data": {
      "text/plain": [
       "Index(['url'], dtype='object')"
      ]
     },
     "execution_count": 9,
     "metadata": {},
     "output_type": "execute_result"
    }
   ],
   "source": [
    "df_uniq"
   ]
  },
  {
   "cell_type": "code",
   "execution_count": 10,
   "id": "bf3aa467-75c0-4bd6-9659-b29f3c3ff9f3",
   "metadata": {},
   "outputs": [],
   "source": [
    "df.drop(['url'], axis=1, inplace=True)"
   ]
  },
  {
   "cell_type": "code",
   "execution_count": 11,
   "id": "84b959a2-6392-4cab-bcac-1ac8a27d117f",
   "metadata": {},
   "outputs": [],
   "source": [
    "df.drop_duplicates(inplace=True)"
   ]
  },
  {
   "cell_type": "code",
   "execution_count": 12,
   "id": "dafa46ae-5cf3-463d-9e24-87375cbcbe32",
   "metadata": {},
   "outputs": [
    {
     "data": {
      "text/plain": [
       "(39644, 60)"
      ]
     },
     "execution_count": 12,
     "metadata": {},
     "output_type": "execute_result"
    }
   ],
   "source": [
    "df.shape"
   ]
  },
  {
   "cell_type": "markdown",
   "id": "9521a074-88ba-4784-8fe5-1ac778ac6504",
   "metadata": {},
   "source": [
    "# X split"
   ]
  },
  {
   "cell_type": "code",
   "execution_count": 13,
   "id": "e6d7204b-789c-4ba8-8857-9442690e6e80",
   "metadata": {},
   "outputs": [
    {
     "data": {
      "text/html": [
       "<div>\n",
       "<style scoped>\n",
       "    .dataframe tbody tr th:only-of-type {\n",
       "        vertical-align: middle;\n",
       "    }\n",
       "\n",
       "    .dataframe tbody tr th {\n",
       "        vertical-align: top;\n",
       "    }\n",
       "\n",
       "    .dataframe thead th {\n",
       "        text-align: right;\n",
       "    }\n",
       "</style>\n",
       "<table border=\"1\" class=\"dataframe\">\n",
       "  <thead>\n",
       "    <tr style=\"text-align: right;\">\n",
       "      <th></th>\n",
       "      <th>timedelta</th>\n",
       "      <th>n_tokens_title</th>\n",
       "      <th>n_tokens_content</th>\n",
       "      <th>n_unique_tokens</th>\n",
       "      <th>n_non_stop_words</th>\n",
       "      <th>n_non_stop_unique_tokens</th>\n",
       "      <th>num_hrefs</th>\n",
       "      <th>num_self_hrefs</th>\n",
       "      <th>num_imgs</th>\n",
       "      <th>num_videos</th>\n",
       "      <th>...</th>\n",
       "      <th>min_positive_polarity</th>\n",
       "      <th>max_positive_polarity</th>\n",
       "      <th>avg_negative_polarity</th>\n",
       "      <th>min_negative_polarity</th>\n",
       "      <th>max_negative_polarity</th>\n",
       "      <th>title_subjectivity</th>\n",
       "      <th>title_sentiment_polarity</th>\n",
       "      <th>abs_title_subjectivity</th>\n",
       "      <th>abs_title_sentiment_polarity</th>\n",
       "      <th>shares</th>\n",
       "    </tr>\n",
       "  </thead>\n",
       "  <tbody>\n",
       "    <tr>\n",
       "      <th>0</th>\n",
       "      <td>731</td>\n",
       "      <td>12</td>\n",
       "      <td>219</td>\n",
       "      <td>0.663594</td>\n",
       "      <td>1.0</td>\n",
       "      <td>0.815385</td>\n",
       "      <td>4</td>\n",
       "      <td>2</td>\n",
       "      <td>1</td>\n",
       "      <td>0</td>\n",
       "      <td>...</td>\n",
       "      <td>0.100000</td>\n",
       "      <td>0.7</td>\n",
       "      <td>-0.350000</td>\n",
       "      <td>-0.600</td>\n",
       "      <td>-0.200000</td>\n",
       "      <td>0.500000</td>\n",
       "      <td>-0.187500</td>\n",
       "      <td>0.000000</td>\n",
       "      <td>0.187500</td>\n",
       "      <td>593</td>\n",
       "    </tr>\n",
       "    <tr>\n",
       "      <th>1</th>\n",
       "      <td>731</td>\n",
       "      <td>9</td>\n",
       "      <td>255</td>\n",
       "      <td>0.604743</td>\n",
       "      <td>1.0</td>\n",
       "      <td>0.791946</td>\n",
       "      <td>3</td>\n",
       "      <td>1</td>\n",
       "      <td>1</td>\n",
       "      <td>0</td>\n",
       "      <td>...</td>\n",
       "      <td>0.033333</td>\n",
       "      <td>0.7</td>\n",
       "      <td>-0.118750</td>\n",
       "      <td>-0.125</td>\n",
       "      <td>-0.100000</td>\n",
       "      <td>0.000000</td>\n",
       "      <td>0.000000</td>\n",
       "      <td>0.500000</td>\n",
       "      <td>0.000000</td>\n",
       "      <td>711</td>\n",
       "    </tr>\n",
       "    <tr>\n",
       "      <th>2</th>\n",
       "      <td>731</td>\n",
       "      <td>9</td>\n",
       "      <td>211</td>\n",
       "      <td>0.575130</td>\n",
       "      <td>1.0</td>\n",
       "      <td>0.663866</td>\n",
       "      <td>3</td>\n",
       "      <td>1</td>\n",
       "      <td>1</td>\n",
       "      <td>0</td>\n",
       "      <td>...</td>\n",
       "      <td>0.100000</td>\n",
       "      <td>1.0</td>\n",
       "      <td>-0.466667</td>\n",
       "      <td>-0.800</td>\n",
       "      <td>-0.133333</td>\n",
       "      <td>0.000000</td>\n",
       "      <td>0.000000</td>\n",
       "      <td>0.500000</td>\n",
       "      <td>0.000000</td>\n",
       "      <td>1500</td>\n",
       "    </tr>\n",
       "    <tr>\n",
       "      <th>3</th>\n",
       "      <td>731</td>\n",
       "      <td>9</td>\n",
       "      <td>531</td>\n",
       "      <td>0.503788</td>\n",
       "      <td>1.0</td>\n",
       "      <td>0.665635</td>\n",
       "      <td>9</td>\n",
       "      <td>0</td>\n",
       "      <td>1</td>\n",
       "      <td>0</td>\n",
       "      <td>...</td>\n",
       "      <td>0.136364</td>\n",
       "      <td>0.8</td>\n",
       "      <td>-0.369697</td>\n",
       "      <td>-0.600</td>\n",
       "      <td>-0.166667</td>\n",
       "      <td>0.000000</td>\n",
       "      <td>0.000000</td>\n",
       "      <td>0.500000</td>\n",
       "      <td>0.000000</td>\n",
       "      <td>1200</td>\n",
       "    </tr>\n",
       "    <tr>\n",
       "      <th>4</th>\n",
       "      <td>731</td>\n",
       "      <td>13</td>\n",
       "      <td>1072</td>\n",
       "      <td>0.415646</td>\n",
       "      <td>1.0</td>\n",
       "      <td>0.540890</td>\n",
       "      <td>19</td>\n",
       "      <td>19</td>\n",
       "      <td>20</td>\n",
       "      <td>0</td>\n",
       "      <td>...</td>\n",
       "      <td>0.033333</td>\n",
       "      <td>1.0</td>\n",
       "      <td>-0.220192</td>\n",
       "      <td>-0.500</td>\n",
       "      <td>-0.050000</td>\n",
       "      <td>0.454545</td>\n",
       "      <td>0.136364</td>\n",
       "      <td>0.045455</td>\n",
       "      <td>0.136364</td>\n",
       "      <td>505</td>\n",
       "    </tr>\n",
       "  </tbody>\n",
       "</table>\n",
       "<p>5 rows × 60 columns</p>\n",
       "</div>"
      ],
      "text/plain": [
       "    timedelta   n_tokens_title   n_tokens_content   n_unique_tokens  \\\n",
       "0         731               12                219          0.663594   \n",
       "1         731                9                255          0.604743   \n",
       "2         731                9                211          0.575130   \n",
       "3         731                9                531          0.503788   \n",
       "4         731               13               1072          0.415646   \n",
       "\n",
       "    n_non_stop_words   n_non_stop_unique_tokens   num_hrefs   num_self_hrefs  \\\n",
       "0                1.0                   0.815385           4                2   \n",
       "1                1.0                   0.791946           3                1   \n",
       "2                1.0                   0.663866           3                1   \n",
       "3                1.0                   0.665635           9                0   \n",
       "4                1.0                   0.540890          19               19   \n",
       "\n",
       "    num_imgs   num_videos  ...   min_positive_polarity  \\\n",
       "0          1            0  ...                0.100000   \n",
       "1          1            0  ...                0.033333   \n",
       "2          1            0  ...                0.100000   \n",
       "3          1            0  ...                0.136364   \n",
       "4         20            0  ...                0.033333   \n",
       "\n",
       "    max_positive_polarity   avg_negative_polarity   min_negative_polarity  \\\n",
       "0                     0.7               -0.350000                  -0.600   \n",
       "1                     0.7               -0.118750                  -0.125   \n",
       "2                     1.0               -0.466667                  -0.800   \n",
       "3                     0.8               -0.369697                  -0.600   \n",
       "4                     1.0               -0.220192                  -0.500   \n",
       "\n",
       "    max_negative_polarity   title_subjectivity   title_sentiment_polarity  \\\n",
       "0               -0.200000             0.500000                  -0.187500   \n",
       "1               -0.100000             0.000000                   0.000000   \n",
       "2               -0.133333             0.000000                   0.000000   \n",
       "3               -0.166667             0.000000                   0.000000   \n",
       "4               -0.050000             0.454545                   0.136364   \n",
       "\n",
       "    abs_title_subjectivity   abs_title_sentiment_polarity   shares  \n",
       "0                 0.000000                       0.187500      593  \n",
       "1                 0.500000                       0.000000      711  \n",
       "2                 0.500000                       0.000000     1500  \n",
       "3                 0.500000                       0.000000     1200  \n",
       "4                 0.045455                       0.136364      505  \n",
       "\n",
       "[5 rows x 60 columns]"
      ]
     },
     "execution_count": 13,
     "metadata": {},
     "output_type": "execute_result"
    }
   ],
   "source": [
    "X = df\n",
    "X.head()"
   ]
  },
  {
   "cell_type": "code",
   "execution_count": 14,
   "id": "e17ede0f-a9d2-4be4-b587-4381a1f1a177",
   "metadata": {},
   "outputs": [
    {
     "data": {
      "text/plain": [
       "(39644, 60)"
      ]
     },
     "execution_count": 14,
     "metadata": {},
     "output_type": "execute_result"
    }
   ],
   "source": [
    "X.shape"
   ]
  },
  {
   "cell_type": "markdown",
   "id": "43bdce53-e3af-4a79-9d1f-def882fcc0f8",
   "metadata": {},
   "source": [
    "# train test split"
   ]
  },
  {
   "cell_type": "code",
   "execution_count": 15,
   "id": "651e40b2-40b4-4481-abe9-7f4b5dd3fbf9",
   "metadata": {},
   "outputs": [],
   "source": [
    "from sklearn.model_selection import train_test_split"
   ]
  },
  {
   "cell_type": "code",
   "execution_count": 16,
   "id": "192d9820-bf85-43bf-a822-229e37a7b652",
   "metadata": {},
   "outputs": [],
   "source": [
    "X_train, X_test, = train_test_split(X, test_size=0.3, random_state=7)"
   ]
  },
  {
   "cell_type": "code",
   "execution_count": 17,
   "id": "615fadce-263b-47fd-86fc-8baa34111c0c",
   "metadata": {},
   "outputs": [
    {
     "data": {
      "text/plain": [
       "((27750, 60), (11894, 60))"
      ]
     },
     "execution_count": 17,
     "metadata": {},
     "output_type": "execute_result"
    }
   ],
   "source": [
    "X_train.shape, X_test.shape"
   ]
  },
  {
   "cell_type": "markdown",
   "id": "2558010e-6cb0-4692-88e7-98da62d2fd76",
   "metadata": {},
   "source": [
    "# standardize the data"
   ]
  },
  {
   "cell_type": "code",
   "execution_count": 18,
   "id": "dc9c754d-f71a-4ca0-81b0-0ce3e637fcda",
   "metadata": {},
   "outputs": [],
   "source": [
    "from sklearn.preprocessing import StandardScaler"
   ]
  },
  {
   "cell_type": "code",
   "execution_count": 19,
   "id": "1b62ff63-2a4f-4a9e-b050-abed9d3577a1",
   "metadata": {},
   "outputs": [],
   "source": [
    "# sd = StandardScaler().fit(X_train)"
   ]
  },
  {
   "cell_type": "code",
   "execution_count": 20,
   "id": "2f0bf100-6814-4006-a958-d16f299d82fd",
   "metadata": {},
   "outputs": [],
   "source": [
    "# X_train.describe()"
   ]
  },
  {
   "cell_type": "code",
   "execution_count": 21,
   "id": "366ccefa-9826-4578-a054-9a2aff65818c",
   "metadata": {},
   "outputs": [],
   "source": [
    "# X_train.loc[:,:] = sd.transform(X_train)"
   ]
  },
  {
   "cell_type": "code",
   "execution_count": 22,
   "id": "6d3926cc-f99b-43c0-a2b9-89a8ad0d5740",
   "metadata": {},
   "outputs": [],
   "source": [
    "# X_train.describe()"
   ]
  },
  {
   "cell_type": "code",
   "execution_count": 23,
   "id": "9e4f1cd8-376b-4bc0-871c-ba3b5a5384d7",
   "metadata": {},
   "outputs": [],
   "source": [
    "# X_test.describe()"
   ]
  },
  {
   "cell_type": "code",
   "execution_count": 24,
   "id": "37cda500-750f-4683-aee0-176cd35b1c68",
   "metadata": {},
   "outputs": [],
   "source": [
    "# X_test.loc[:,:] = sd.transform(X_test)"
   ]
  },
  {
   "cell_type": "code",
   "execution_count": 25,
   "id": "cbc4151f-ae47-4397-9886-9b84e5f42c4c",
   "metadata": {},
   "outputs": [],
   "source": [
    "# X_test.describe()"
   ]
  },
  {
   "cell_type": "markdown",
   "id": "c0c58a94-2370-48be-84fc-e9c9003318d3",
   "metadata": {},
   "source": [
    "<!-- # k-means clustering -->"
   ]
  },
  {
   "cell_type": "markdown",
   "id": "35cbe9c8-daab-45b9-afb4-8c2c9f8c3b5d",
   "metadata": {},
   "source": [
    "# DBSCAN"
   ]
  },
  {
   "cell_type": "code",
   "execution_count": 26,
   "id": "330cea7f-c5fa-4a6b-9900-e5345dd23e33",
   "metadata": {},
   "outputs": [],
   "source": [
    "# # from sklearn.cluster import DBSCAN\n",
    "# from sklearn.cluster import DBSCAN\n",
    "# from sklearn.preprocessing import StandardScaler\n",
    "# X = StandardScaler().fit_transform(X) # standardization"
   ]
  },
  {
   "cell_type": "code",
   "execution_count": 27,
   "id": "84da0b71-c1b3-4219-bdc9-db3de7a3513b",
   "metadata": {},
   "outputs": [],
   "source": [
    "# y_pred = DBSCAN(eps=10, min_samples=10).fit_predict(X)\n",
    "# print('Number of clusters: {}'.format(len(set(y_pred[np.where(y_pred != -1)]))))\n",
    "# print('Outliers :', len(y_pred[np.where(y_pred == -1)]))\n",
    "# plt.scatter(X[:,0], X[:,1], c=y_pred, cmap='rainbow')"
   ]
  },
  {
   "cell_type": "markdown",
   "id": "88bf45ae-ddee-459d-99fc-40681a3b7f81",
   "metadata": {},
   "source": [
    "# Knee finding in DBSCAN"
   ]
  },
  {
   "cell_type": "code",
   "execution_count": 28,
   "id": "14762439-effd-4da2-8ed6-ece0c3d415c2",
   "metadata": {},
   "outputs": [],
   "source": [
    "# from sklearn.neighbors import NearestNeighbors\n",
    "# from matplotlib import pyplot as plt\n",
    "# neigh = NearestNeighbors(n_neighbors=2)\n",
    "# nbrs = neigh.fit(X)\n",
    "# distances, indices = nbrs.kneighbors(X)\n",
    "# distances = np.sort(distances, axis=0)\n",
    "# distances = distances[:,1]\n",
    "# plt.plot(distances)"
   ]
  },
  {
   "cell_type": "markdown",
   "id": "20ce0a08-f557-4297-836e-8fb2b8902f9e",
   "metadata": {},
   "source": [
    "# Statistical methods"
   ]
  },
  {
   "cell_type": "raw",
   "id": "7fcb9621-c978-4bd4-a4ab-b101bc9995fb",
   "metadata": {},
   "source": [
    "1. z-score based (standard scaler)\n",
    "2. IQR based"
   ]
  },
  {
   "cell_type": "code",
   "execution_count": 29,
   "id": "f402b216-d2e4-4b37-b61e-1ffb0165cdfa",
   "metadata": {},
   "outputs": [],
   "source": [
    "# Find outliers in 'num_keywords' column"
   ]
  },
  {
   "cell_type": "code",
   "execution_count": 33,
   "id": "8b238849-413d-44b0-81cf-01bcfa823d43",
   "metadata": {},
   "outputs": [],
   "source": [
    "X_train_sd = X_train.copy()\n",
    "X_test_sd = X_test.copy()\n",
    "from sklearn.preprocessing import StandardScaler\n",
    "sd = StandardScaler()\n",
    "sd.fit(X_train)\n",
    "X_train_sd.loc[:,:] = sd.transform(X_train)\n",
    "X_test_sd = sd.transform(X_test)"
   ]
  },
  {
   "cell_type": "code",
   "execution_count": 34,
   "id": "e6ac2936-83d1-45fa-8eb2-375fdf26186f",
   "metadata": {},
   "outputs": [],
   "source": [
    "# print the rows which are having outlier value in num_keywords\n",
    "sd_outlier = X_train_sd.loc[(X_train_sd[' num_keywords'] < -3)\n",
    "                        | (X_train_sd[' num_keywords'] > 3),:]"
   ]
  },
  {
   "cell_type": "code",
   "execution_count": 35,
   "id": "ac702675-ee25-4992-8d3a-e5365005aef0",
   "metadata": {},
   "outputs": [
    {
     "data": {
      "text/plain": [
       "(39, 60)"
      ]
     },
     "execution_count": 35,
     "metadata": {},
     "output_type": "execute_result"
    }
   ],
   "source": [
    "sd_outlier.shape"
   ]
  },
  {
   "cell_type": "code",
   "execution_count": 53,
   "id": "35b3628c-b5b8-4d86-8b91-97d37d2ee2b8",
   "metadata": {},
   "outputs": [
    {
     "name": "stdout",
     "output_type": "stream",
     "text": [
      "id of df 2120028177232\n",
      "id of df 2120028177232\n"
     ]
    }
   ],
   "source": [
    "def trial(df):\n",
    "    print(\"id of df\", id(df))\n",
    "print(\"id of df\", id(X_train_sd))\n",
    "trial(X_train_sd)"
   ]
  },
  {
   "cell_type": "code",
   "execution_count": 36,
   "id": "90b286d3-5257-4cb5-ad70-7f1925655869",
   "metadata": {},
   "outputs": [
    {
     "name": "stdout",
     "output_type": "stream",
     "text": [
      "Column Name:   timedelta (0, 60)\n",
      "Column Name:   n_tokens_title (117, 60)\n",
      "Column Name:   n_tokens_content (510, 60)\n",
      "Column Name:   n_unique_tokens (835, 60)\n",
      "Column Name:   n_non_stop_words (822, 60)\n",
      "Column Name:   n_non_stop_unique_tokens (853, 60)\n",
      "Column Name:   num_hrefs (486, 60)\n",
      "Column Name:   num_self_hrefs (485, 60)\n",
      "Column Name:   num_imgs (610, 60)\n",
      "Column Name:   num_videos (707, 60)\n",
      "Column Name:   average_token_length (825, 60)\n",
      "Column Name:   num_keywords (39, 60)\n",
      "Column Name:   data_channel_is_lifestyle (1504, 60)\n",
      "Column Name:   data_channel_is_entertainment (0, 60)\n",
      "Column Name:   data_channel_is_bus (0, 60)\n",
      "Column Name:   data_channel_is_socmed (1630, 60)\n",
      "Column Name:   data_channel_is_tech (0, 60)\n",
      "Column Name:   data_channel_is_world (0, 60)\n",
      "Column Name:   kw_min_min (1, 60)\n",
      "Column Name:   kw_max_min (183, 60)\n",
      "Column Name:   kw_avg_min (230, 60)\n",
      "Column Name:   kw_min_max (318, 60)\n",
      "Column Name:   kw_max_max (2163, 60)\n",
      "Column Name:   kw_avg_max (229, 60)\n",
      "Column Name:   kw_min_avg (0, 60)\n",
      "Column Name:   kw_max_avg (270, 60)\n",
      "Column Name:   kw_avg_avg (281, 60)\n",
      "Column Name:   self_reference_min_shares (192, 60)\n",
      "Column Name:   self_reference_max_shares (184, 60)\n",
      "Column Name:   self_reference_avg_sharess (229, 60)\n",
      "Column Name:   weekday_is_monday (0, 60)\n",
      "Column Name:   weekday_is_tuesday (0, 60)\n",
      "Column Name:   weekday_is_wednesday (0, 60)\n",
      "Column Name:   weekday_is_thursday (0, 60)\n",
      "Column Name:   weekday_is_friday (0, 60)\n",
      "Column Name:   weekday_is_saturday (1710, 60)\n",
      "Column Name:   weekday_is_sunday (1894, 60)\n",
      "Column Name:   is_weekend (0, 60)\n",
      "Column Name:   LDA_00 (0, 60)\n",
      "Column Name:   LDA_01 (902, 60)\n",
      "Column Name:   LDA_02 (0, 60)\n",
      "Column Name:   LDA_03 (0, 60)\n",
      "Column Name:   LDA_04 (0, 60)\n",
      "Column Name:   global_subjectivity (866, 60)\n",
      "Column Name:   global_sentiment_polarity (292, 60)\n",
      "Column Name:   global_rate_positive_words (170, 60)\n",
      "Column Name:   global_rate_negative_words (381, 60)\n",
      "Column Name:   rate_positive_words (863, 60)\n",
      "Column Name:   rate_negative_words (158, 60)\n",
      "Column Name:   avg_positive_polarity (962, 60)\n",
      "Column Name:   min_positive_polarity (535, 60)\n",
      "Column Name:   max_positive_polarity (846, 60)\n",
      "Column Name:   avg_negative_polarity (233, 60)\n",
      "Column Name:   min_negative_polarity (0, 60)\n",
      "Column Name:   max_negative_polarity (800, 60)\n",
      "Column Name:   title_subjectivity (0, 60)\n",
      "Column Name:   title_sentiment_polarity (654, 60)\n",
      "Column Name:   abs_title_subjectivity (0, 60)\n",
      "Column Name:   abs_title_sentiment_polarity (630, 60)\n",
      "Column Name:   shares (188, 60)\n"
     ]
    }
   ],
   "source": [
    "for i in df.columns:\n",
    "    print(\"Column Name: \",i,end=\" \")\n",
    "    sd_outlier = X_train_sd.loc[(X_train_sd[ i] < -3)\n",
    "                        | (X_train_sd[ i] > 3),:] \n",
    "    print(sd_outlier.shape)"
   ]
  },
  {
   "cell_type": "code",
   "execution_count": 37,
   "id": "dd191544-952e-4366-9c78-2148c6eb617d",
   "metadata": {},
   "outputs": [
    {
     "name": "stdout",
     "output_type": "stream",
     "text": [
      "Column Name:   timedelta (0, 60)\n",
      "Column Name:   n_tokens_title (117, 60)\n",
      "Column Name:   n_tokens_content (510, 60)\n",
      "Column Name:   n_unique_tokens (835, 60)\n",
      "Column Name:   n_non_stop_words (822, 60)\n",
      "Column Name:   n_non_stop_unique_tokens (853, 60)\n",
      "Column Name:   num_hrefs (486, 60)\n",
      "Column Name:   num_self_hrefs (485, 60)\n",
      "Column Name:   num_imgs (610, 60)\n",
      "Column Name:   num_videos (707, 60)\n",
      "Column Name:   average_token_length (825, 60)\n",
      "Column Name:   num_keywords (39, 60)\n",
      "Column Name:   data_channel_is_lifestyle (1504, 60)\n",
      "Column Name:   data_channel_is_entertainment (0, 60)\n",
      "Column Name:   data_channel_is_bus (0, 60)\n",
      "Column Name:   data_channel_is_socmed (1630, 60)\n",
      "Column Name:   data_channel_is_tech (0, 60)\n",
      "Column Name:   data_channel_is_world (0, 60)\n",
      "Column Name:   kw_min_min (1, 60)\n",
      "Column Name:   kw_max_min (183, 60)\n",
      "Column Name:   kw_avg_min (230, 60)\n",
      "Column Name:   kw_min_max (318, 60)\n",
      "Column Name:   kw_max_max (2163, 60)\n",
      "Column Name:   kw_avg_max (229, 60)\n",
      "Column Name:   kw_min_avg (0, 60)\n",
      "Column Name:   kw_max_avg (270, 60)\n",
      "Column Name:   kw_avg_avg (281, 60)\n",
      "Column Name:   self_reference_min_shares (192, 60)\n",
      "Column Name:   self_reference_max_shares (184, 60)\n",
      "Column Name:   self_reference_avg_sharess (229, 60)\n",
      "Column Name:   weekday_is_monday (0, 60)\n",
      "Column Name:   weekday_is_tuesday (0, 60)\n",
      "Column Name:   weekday_is_wednesday (0, 60)\n",
      "Column Name:   weekday_is_thursday (0, 60)\n",
      "Column Name:   weekday_is_friday (0, 60)\n",
      "Column Name:   weekday_is_saturday (1710, 60)\n",
      "Column Name:   weekday_is_sunday (1894, 60)\n",
      "Column Name:   is_weekend (0, 60)\n",
      "Column Name:   LDA_00 (0, 60)\n",
      "Column Name:   LDA_01 (902, 60)\n",
      "Column Name:   LDA_02 (0, 60)\n",
      "Column Name:   LDA_03 (0, 60)\n",
      "Column Name:   LDA_04 (0, 60)\n",
      "Column Name:   global_subjectivity (866, 60)\n",
      "Column Name:   global_sentiment_polarity (292, 60)\n",
      "Column Name:   global_rate_positive_words (170, 60)\n",
      "Column Name:   global_rate_negative_words (381, 60)\n",
      "Column Name:   rate_positive_words (863, 60)\n",
      "Column Name:   rate_negative_words (158, 60)\n",
      "Column Name:   avg_positive_polarity (962, 60)\n",
      "Column Name:   min_positive_polarity (535, 60)\n",
      "Column Name:   max_positive_polarity (846, 60)\n",
      "Column Name:   avg_negative_polarity (233, 60)\n",
      "Column Name:   min_negative_polarity (0, 60)\n",
      "Column Name:   max_negative_polarity (800, 60)\n",
      "Column Name:   title_subjectivity (0, 60)\n",
      "Column Name:   title_sentiment_polarity (654, 60)\n",
      "Column Name:   abs_title_subjectivity (0, 60)\n",
      "Column Name:   abs_title_sentiment_polarity (630, 60)\n",
      "Column Name:   shares (188, 60)\n"
     ]
    }
   ],
   "source": [
    "def columns_outlier(l):\n",
    "  for i in l:\n",
    "    print(\"Column Name: \",i,end=\" \")\n",
    "    sd_outlier = X_train_sd.loc[(X_train_sd[ i] < -3)\n",
    "                        | (X_train_sd[ i] > 3),:] \n",
    "    print(sd_outlier.shape)\n",
    "\n",
    "columns_outlier(df.columns)"
   ]
  },
  {
   "cell_type": "code",
   "execution_count": 40,
   "id": "fd90d584-8fbb-4eb7-9e79-f103b0c333cf",
   "metadata": {},
   "outputs": [],
   "source": [
    "def outlier_with_std_scaler(df):\n",
    "    for col in df.columns:\n",
    "        print(\"Column=\",col , \"% of outliers=\", df.loc[(df[col] < -3) | (df[col] > 3), col].shape[0]/df.shape[0]*100)\n",
    "    return"
   ]
  },
  {
   "cell_type": "code",
   "execution_count": 41,
   "id": "db0df8a6-360c-40f8-a3e6-af8e7a6375df",
   "metadata": {},
   "outputs": [
    {
     "name": "stdout",
     "output_type": "stream",
     "text": [
      "Column=  timedelta % of outliers= 0.0\n",
      "Column=  n_tokens_title % of outliers= 0.4216216216216216\n",
      "Column=  n_tokens_content % of outliers= 1.8378378378378377\n",
      "Column=  n_unique_tokens % of outliers= 3.0090090090090094\n",
      "Column=  n_non_stop_words % of outliers= 2.962162162162162\n",
      "Column=  n_non_stop_unique_tokens % of outliers= 3.073873873873874\n",
      "Column=  num_hrefs % of outliers= 1.7513513513513514\n",
      "Column=  num_self_hrefs % of outliers= 1.7477477477477477\n",
      "Column=  num_imgs % of outliers= 2.1981981981981984\n",
      "Column=  num_videos % of outliers= 2.5477477477477475\n",
      "Column=  average_token_length % of outliers= 2.9729729729729732\n",
      "Column=  num_keywords % of outliers= 0.14054054054054055\n",
      "Column=  data_channel_is_lifestyle % of outliers= 5.4198198198198195\n",
      "Column=  data_channel_is_entertainment % of outliers= 0.0\n",
      "Column=  data_channel_is_bus % of outliers= 0.0\n",
      "Column=  data_channel_is_socmed % of outliers= 5.873873873873873\n",
      "Column=  data_channel_is_tech % of outliers= 0.0\n",
      "Column=  data_channel_is_world % of outliers= 0.0\n",
      "Column=  kw_min_min % of outliers= 0.0036036036036036037\n",
      "Column=  kw_max_min % of outliers= 0.6594594594594595\n",
      "Column=  kw_avg_min % of outliers= 0.8288288288288289\n",
      "Column=  kw_min_max % of outliers= 1.145945945945946\n",
      "Column=  kw_max_max % of outliers= 7.794594594594595\n",
      "Column=  kw_avg_max % of outliers= 0.8252252252252252\n",
      "Column=  kw_min_avg % of outliers= 0.0\n",
      "Column=  kw_max_avg % of outliers= 0.9729729729729729\n",
      "Column=  kw_avg_avg % of outliers= 1.0126126126126127\n",
      "Column=  self_reference_min_shares % of outliers= 0.6918918918918919\n",
      "Column=  self_reference_max_shares % of outliers= 0.6630630630630631\n",
      "Column=  self_reference_avg_sharess % of outliers= 0.8252252252252252\n",
      "Column=  weekday_is_monday % of outliers= 0.0\n",
      "Column=  weekday_is_tuesday % of outliers= 0.0\n",
      "Column=  weekday_is_wednesday % of outliers= 0.0\n",
      "Column=  weekday_is_thursday % of outliers= 0.0\n",
      "Column=  weekday_is_friday % of outliers= 0.0\n",
      "Column=  weekday_is_saturday % of outliers= 6.162162162162162\n",
      "Column=  weekday_is_sunday % of outliers= 6.825225225225225\n",
      "Column=  is_weekend % of outliers= 0.0\n",
      "Column=  LDA_00 % of outliers= 0.0\n",
      "Column=  LDA_01 % of outliers= 3.2504504504504506\n",
      "Column=  LDA_02 % of outliers= 0.0\n",
      "Column=  LDA_03 % of outliers= 0.0\n",
      "Column=  LDA_04 % of outliers= 0.0\n",
      "Column=  global_subjectivity % of outliers= 3.120720720720721\n",
      "Column=  global_sentiment_polarity % of outliers= 1.0522522522522524\n",
      "Column=  global_rate_positive_words % of outliers= 0.6126126126126126\n",
      "Column=  global_rate_negative_words % of outliers= 1.372972972972973\n",
      "Column=  rate_positive_words % of outliers= 3.1099099099099097\n",
      "Column=  rate_negative_words % of outliers= 0.5693693693693693\n",
      "Column=  avg_positive_polarity % of outliers= 3.4666666666666663\n",
      "Column=  min_positive_polarity % of outliers= 1.927927927927928\n",
      "Column=  max_positive_polarity % of outliers= 3.0486486486486486\n",
      "Column=  avg_negative_polarity % of outliers= 0.8396396396396397\n",
      "Column=  min_negative_polarity % of outliers= 0.0\n",
      "Column=  max_negative_polarity % of outliers= 2.8828828828828827\n",
      "Column=  title_subjectivity % of outliers= 0.0\n",
      "Column=  title_sentiment_polarity % of outliers= 2.3567567567567567\n",
      "Column=  abs_title_subjectivity % of outliers= 0.0\n",
      "Column=  abs_title_sentiment_polarity % of outliers= 2.27027027027027\n",
      "Column=  shares % of outliers= 0.6774774774774774\n"
     ]
    }
   ],
   "source": [
    "outlier_with_std_scaler(X_train_sd)"
   ]
  },
  {
   "cell_type": "code",
   "execution_count": 49,
   "id": "f2d93203-b442-4d2f-80ae-55f1161f2032",
   "metadata": {},
   "outputs": [],
   "source": [
    "def outlier_with_std_scaler(df):\n",
    "    for col in df.columns:\n",
    "        print(\"Column=\",col , \"% of outliers=\", df.loc[(df[col] < -3) | (df[col] > 3), col].shape[0]/df.shape[0]*100)\n",
    "        # impute the outlier values\n",
    "        df.loc[df[col]<-3, col]=-3\n",
    "        df.loc[df[col]>3, col]=3\n",
    "    return"
   ]
  },
  {
   "cell_type": "code",
   "execution_count": 51,
   "id": "b817f12f-af90-44af-9b02-1b38fbb0f1a3",
   "metadata": {},
   "outputs": [
    {
     "name": "stdout",
     "output_type": "stream",
     "text": [
      "Column=  timedelta % of outliers= 0.0\n",
      "Column=  n_tokens_title % of outliers= 0.4216216216216216\n",
      "Column=  n_tokens_content % of outliers= 1.8378378378378377\n",
      "Column=  n_unique_tokens % of outliers= 3.0090090090090094\n",
      "Column=  n_non_stop_words % of outliers= 2.962162162162162\n",
      "Column=  n_non_stop_unique_tokens % of outliers= 3.073873873873874\n",
      "Column=  num_hrefs % of outliers= 1.7513513513513514\n",
      "Column=  num_self_hrefs % of outliers= 1.7477477477477477\n",
      "Column=  num_imgs % of outliers= 2.1981981981981984\n",
      "Column=  num_videos % of outliers= 2.5477477477477475\n",
      "Column=  average_token_length % of outliers= 2.9729729729729732\n",
      "Column=  num_keywords % of outliers= 0.14054054054054055\n",
      "Column=  data_channel_is_lifestyle % of outliers= 5.4198198198198195\n",
      "Column=  data_channel_is_entertainment % of outliers= 0.0\n",
      "Column=  data_channel_is_bus % of outliers= 0.0\n",
      "Column=  data_channel_is_socmed % of outliers= 5.873873873873873\n",
      "Column=  data_channel_is_tech % of outliers= 0.0\n",
      "Column=  data_channel_is_world % of outliers= 0.0\n",
      "Column=  kw_min_min % of outliers= 0.0036036036036036037\n",
      "Column=  kw_max_min % of outliers= 0.6594594594594595\n",
      "Column=  kw_avg_min % of outliers= 0.8288288288288289\n",
      "Column=  kw_min_max % of outliers= 1.145945945945946\n",
      "Column=  kw_max_max % of outliers= 7.794594594594595\n",
      "Column=  kw_avg_max % of outliers= 0.8252252252252252\n",
      "Column=  kw_min_avg % of outliers= 0.0\n",
      "Column=  kw_max_avg % of outliers= 0.9729729729729729\n",
      "Column=  kw_avg_avg % of outliers= 1.0126126126126127\n",
      "Column=  self_reference_min_shares % of outliers= 0.6918918918918919\n",
      "Column=  self_reference_max_shares % of outliers= 0.6630630630630631\n",
      "Column=  self_reference_avg_sharess % of outliers= 0.8252252252252252\n",
      "Column=  weekday_is_monday % of outliers= 0.0\n",
      "Column=  weekday_is_tuesday % of outliers= 0.0\n",
      "Column=  weekday_is_wednesday % of outliers= 0.0\n",
      "Column=  weekday_is_thursday % of outliers= 0.0\n",
      "Column=  weekday_is_friday % of outliers= 0.0\n",
      "Column=  weekday_is_saturday % of outliers= 6.162162162162162\n",
      "Column=  weekday_is_sunday % of outliers= 6.825225225225225\n",
      "Column=  is_weekend % of outliers= 0.0\n",
      "Column=  LDA_00 % of outliers= 0.0\n",
      "Column=  LDA_01 % of outliers= 3.2504504504504506\n",
      "Column=  LDA_02 % of outliers= 0.0\n",
      "Column=  LDA_03 % of outliers= 0.0\n",
      "Column=  LDA_04 % of outliers= 0.0\n",
      "Column=  global_subjectivity % of outliers= 3.120720720720721\n",
      "Column=  global_sentiment_polarity % of outliers= 1.0522522522522524\n",
      "Column=  global_rate_positive_words % of outliers= 0.6126126126126126\n",
      "Column=  global_rate_negative_words % of outliers= 1.372972972972973\n",
      "Column=  rate_positive_words % of outliers= 3.1099099099099097\n",
      "Column=  rate_negative_words % of outliers= 0.5693693693693693\n",
      "Column=  avg_positive_polarity % of outliers= 3.4666666666666663\n",
      "Column=  min_positive_polarity % of outliers= 1.927927927927928\n",
      "Column=  max_positive_polarity % of outliers= 3.0486486486486486\n",
      "Column=  avg_negative_polarity % of outliers= 0.8396396396396397\n",
      "Column=  min_negative_polarity % of outliers= 0.0\n",
      "Column=  max_negative_polarity % of outliers= 2.8828828828828827\n",
      "Column=  title_subjectivity % of outliers= 0.0\n",
      "Column=  title_sentiment_polarity % of outliers= 2.3567567567567567\n",
      "Column=  abs_title_subjectivity % of outliers= 0.0\n",
      "Column=  abs_title_sentiment_polarity % of outliers= 2.27027027027027\n",
      "Column=  shares % of outliers= 0.6774774774774774\n"
     ]
    }
   ],
   "source": [
    "outlier_with_std_scaler(X_train_sd)"
   ]
  },
  {
   "cell_type": "markdown",
   "id": "1e8cf794-0e26-4ccf-b915-0eb67df86a77",
   "metadata": {},
   "source": [
    "# IQR based outlier imputation"
   ]
  },
  {
   "cell_type": "code",
   "execution_count": 54,
   "id": "c0b899c3-c146-4631-a8f4-9cb4e733ba0b",
   "metadata": {},
   "outputs": [],
   "source": [
    "X_train_iqr = X_train.copy()"
   ]
  },
  {
   "cell_type": "code",
   "execution_count": 56,
   "id": "5d202fbf-ccc0-47dd-adea-1aaa7476aeb8",
   "metadata": {},
   "outputs": [
    {
     "data": {
      "text/plain": [
       "(0, 60)"
      ]
     },
     "execution_count": 56,
     "metadata": {},
     "output_type": "execute_result"
    }
   ],
   "source": [
    "q1, q3 = X_train_iqr[' timedelta'].quantile([0.25,0.75])\n",
    "iqr = q3 - q1\n",
    "min_valid_value = q1 - 1.5 * iqr\n",
    "max_valid_value = q3 + 1.5 * iqr\n",
    "X_train_iqr [(X_train_iqr[' timedelta'] < min_valid_value )\n",
    " | (X_train_iqr[' timedelta'] > max_valid_value)].shape"
   ]
  },
  {
   "cell_type": "code",
   "execution_count": 57,
   "id": "fba72d40-23cb-49bc-bebc-09fb40cb5b9c",
   "metadata": {},
   "outputs": [],
   "source": [
    "def outlier_with_std_scaler(df):\n",
    "    for col in df.columns:\n",
    "        q1, q3 = X_train_iqr[col].quantile([0.25,0.75])\n",
    "        iqr = q3 - q1\n",
    "        min_valid_value = q1 - 1.5 * iqr\n",
    "        max_valid_value = q3 + 1.5 * iqr\n",
    "        print(\"Column=\",col , \"% of outliers=\", df.loc[(df[col] < min_valid_value) | (df[col] > max_valid_value), col].shape[0]/df.shape[0]*100)\n",
    "        # impute the outlier values\n",
    "        df.loc[df[col] < min_valid_value, col] = min_valid_value\n",
    "        df.loc[df[col] > max_valid_value, col] = max_valid_value\n",
    "    return"
   ]
  },
  {
   "cell_type": "code",
   "execution_count": 58,
   "id": "50068c78-7ecd-4b21-a6b4-6b61cf2d7dfd",
   "metadata": {},
   "outputs": [
    {
     "name": "stdout",
     "output_type": "stream",
     "text": [
      "Column=  timedelta % of outliers= 0.0\n",
      "Column=  n_tokens_title % of outliers= 0.4216216216216216\n",
      "Column=  n_tokens_content % of outliers= 4.846846846846846\n",
      "Column=  n_unique_tokens % of outliers= 4.072072072072072\n",
      "Column=  n_non_stop_words % of outliers= 5.884684684684684\n",
      "Column=  n_non_stop_unique_tokens % of outliers= 4.2918918918918925\n",
      "Column=  num_hrefs % of outliers= 5.4198198198198195\n",
      "Column=  num_self_hrefs % of outliers= 5.2792792792792795\n",
      "Column=  num_imgs % of outliers= 19.308108108108108\n",
      "Column=  num_videos % of outliers= 7.2468468468468465\n",
      "Column=  average_token_length % of outliers= 4.169369369369369\n",
      "Column=  num_keywords % of outliers= 0.14054054054054055\n",
      "Column=  data_channel_is_lifestyle % of outliers= 5.4198198198198195\n",
      "Column=  data_channel_is_entertainment % of outliers= 17.7009009009009\n",
      "Column=  data_channel_is_bus % of outliers= 15.607207207207207\n",
      "Column=  data_channel_is_socmed % of outliers= 5.873873873873873\n",
      "Column=  data_channel_is_tech % of outliers= 18.673873873873877\n",
      "Column=  data_channel_is_world % of outliers= 21.300900900900903\n",
      "Column=  kw_min_min % of outliers= 11.906306306306307\n",
      "Column=  kw_max_min % of outliers= 9.282882882882882\n",
      "Column=  kw_avg_min % of outliers= 5.3297297297297295\n",
      "Column=  kw_min_max % of outliers= 12.652252252252252\n",
      "Column=  kw_max_max % of outliers= 24.014414414414414\n",
      "Column=  kw_avg_max % of outliers= 2.327927927927928\n",
      "Column=  kw_min_avg % of outliers= 0.0\n",
      "Column=  kw_max_avg % of outliers= 6.043243243243243\n",
      "Column=  kw_avg_avg % of outliers= 4.187387387387387\n",
      "Column=  self_reference_min_shares % of outliers= 12.241441441441442\n",
      "Column=  self_reference_max_shares % of outliers= 10.572972972972973\n",
      "Column=  self_reference_avg_sharess % of outliers= 10.702702702702704\n",
      "Column=  weekday_is_monday % of outliers= 16.807207207207206\n",
      "Column=  weekday_is_tuesday % of outliers= 18.73873873873874\n",
      "Column=  weekday_is_wednesday % of outliers= 18.706306306306306\n",
      "Column=  weekday_is_thursday % of outliers= 18.37837837837838\n",
      "Column=  weekday_is_friday % of outliers= 14.381981981981982\n",
      "Column=  weekday_is_saturday % of outliers= 6.162162162162162\n",
      "Column=  weekday_is_sunday % of outliers= 6.825225225225225\n",
      "Column=  is_weekend % of outliers= 12.987387387387386\n",
      "Column=  LDA_00 % of outliers= 13.390990990990993\n",
      "Column=  LDA_01 % of outliers= 14.753153153153153\n",
      "Column=  LDA_02 % of outliers= 8.897297297297298\n",
      "Column=  LDA_03 % of outliers= 4.605405405405405\n",
      "Column=  LDA_04 % of outliers= 0.0\n",
      "Column=  global_subjectivity % of outliers= 4.828828828828828\n",
      "Column=  global_sentiment_polarity % of outliers= 2.18018018018018\n",
      "Column=  global_rate_positive_words % of outliers= 1.2936936936936938\n",
      "Column=  global_rate_negative_words % of outliers= 3.3153153153153156\n",
      "Column=  rate_positive_words % of outliers= 4.025225225225225\n",
      "Column=  rate_negative_words % of outliers= 1.3297297297297297\n",
      "Column=  avg_positive_polarity % of outliers= 5.3045045045045045\n",
      "Column=  min_positive_polarity % of outliers= 8.025225225225226\n",
      "Column=  max_positive_polarity % of outliers= 0.0\n",
      "Column=  avg_negative_polarity % of outliers= 2.2486486486486488\n",
      "Column=  min_negative_polarity % of outliers= 0.0\n",
      "Column=  max_negative_polarity % of outliers= 6.223423423423424\n",
      "Column=  title_subjectivity % of outliers= 0.0\n",
      "Column=  title_sentiment_polarity % of outliers= 19.54594594594595\n",
      "Column=  abs_title_subjectivity % of outliers= 0.0\n",
      "Column=  abs_title_sentiment_polarity % of outliers= 4.2594594594594595\n",
      "Column=  shares % of outliers= 11.484684684684684\n"
     ]
    },
    {
     "name": "stderr",
     "output_type": "stream",
     "text": [
      "C:\\Users\\alish\\AppData\\Local\\Temp\\ipykernel_19440\\1376513709.py:9: FutureWarning: Setting an item of incompatible dtype is deprecated and will raise in a future error of pandas. Value '-407.5' has dtype incompatible with int64, please explicitly cast to a compatible dtype first.\n",
      "  df.loc[df[col] < min_valid_value, col] = min_valid_value\n",
      "C:\\Users\\alish\\AppData\\Local\\Temp\\ipykernel_19440\\1376513709.py:9: FutureWarning: Setting an item of incompatible dtype is deprecated and will raise in a future error of pandas. Value '4.5' has dtype incompatible with int64, please explicitly cast to a compatible dtype first.\n",
      "  df.loc[df[col] < min_valid_value, col] = min_valid_value\n",
      "C:\\Users\\alish\\AppData\\Local\\Temp\\ipykernel_19440\\1376513709.py:9: FutureWarning: Setting an item of incompatible dtype is deprecated and will raise in a future error of pandas. Value '-456.5' has dtype incompatible with int64, please explicitly cast to a compatible dtype first.\n",
      "  df.loc[df[col] < min_valid_value, col] = min_valid_value\n",
      "C:\\Users\\alish\\AppData\\Local\\Temp\\ipykernel_19440\\1376513709.py:9: FutureWarning: Setting an item of incompatible dtype is deprecated and will raise in a future error of pandas. Value '-3.5' has dtype incompatible with int64, please explicitly cast to a compatible dtype first.\n",
      "  df.loc[df[col] < min_valid_value, col] = min_valid_value\n",
      "C:\\Users\\alish\\AppData\\Local\\Temp\\ipykernel_19440\\1376513709.py:9: FutureWarning: Setting an item of incompatible dtype is deprecated and will raise in a future error of pandas. Value '-3.5' has dtype incompatible with int64, please explicitly cast to a compatible dtype first.\n",
      "  df.loc[df[col] < min_valid_value, col] = min_valid_value\n",
      "C:\\Users\\alish\\AppData\\Local\\Temp\\ipykernel_19440\\1376513709.py:9: FutureWarning: Setting an item of incompatible dtype is deprecated and will raise in a future error of pandas. Value '-1.5' has dtype incompatible with int64, please explicitly cast to a compatible dtype first.\n",
      "  df.loc[df[col] < min_valid_value, col] = min_valid_value\n",
      "C:\\Users\\alish\\AppData\\Local\\Temp\\ipykernel_19440\\1376513709.py:9: FutureWarning: Setting an item of incompatible dtype is deprecated and will raise in a future error of pandas. Value '1.5' has dtype incompatible with int64, please explicitly cast to a compatible dtype first.\n",
      "  df.loc[df[col] < min_valid_value, col] = min_valid_value\n",
      "C:\\Users\\alish\\AppData\\Local\\Temp\\ipykernel_19440\\1376513709.py:9: FutureWarning: Setting an item of incompatible dtype is deprecated and will raise in a future error of pandas. Value '-8.5' has dtype incompatible with int64, please explicitly cast to a compatible dtype first.\n",
      "  df.loc[df[col] < min_valid_value, col] = min_valid_value\n",
      "C:\\Users\\alish\\AppData\\Local\\Temp\\ipykernel_19440\\1376513709.py:9: FutureWarning: Setting an item of incompatible dtype is deprecated and will raise in a future error of pandas. Value '-1827.5' has dtype incompatible with int64, please explicitly cast to a compatible dtype first.\n",
      "  df.loc[df[col] < min_valid_value, col] = min_valid_value\n"
     ]
    }
   ],
   "source": [
    "outlier_with_std_scaler(X_train_iqr)"
   ]
  },
  {
   "cell_type": "code",
   "execution_count": null,
   "id": "7aa7ee8c-07fc-4d68-9b0e-7c95afe43fd8",
   "metadata": {},
   "outputs": [],
   "source": []
  }
 ],
 "metadata": {
  "kernelspec": {
   "display_name": "Python 3 (ipykernel)",
   "language": "python",
   "name": "python3"
  },
  "language_info": {
   "codemirror_mode": {
    "name": "ipython",
    "version": 3
   },
   "file_extension": ".py",
   "mimetype": "text/x-python",
   "name": "python",
   "nbconvert_exporter": "python",
   "pygments_lexer": "ipython3",
   "version": "3.11.5"
  }
 },
 "nbformat": 4,
 "nbformat_minor": 5
}
